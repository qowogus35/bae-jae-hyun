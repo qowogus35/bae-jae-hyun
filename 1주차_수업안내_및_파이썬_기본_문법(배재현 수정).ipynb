{
  "nbformat": 4,
  "nbformat_minor": 0,
  "metadata": {
    "colab": {
      "name": "1주차_수업안내 및 파이썬 기본 문법.ipynb",
      "provenance": [],
      "toc_visible": true,
      "include_colab_link": true
    },
    "kernelspec": {
      "name": "python3",
      "display_name": "Python 3"
    }
  },
  "cells": [
    {
      "cell_type": "markdown",
      "metadata": {
        "id": "view-in-github",
        "colab_type": "text"
      },
      "source": [
        "<a href=\"https://colab.research.google.com/github/qowogus35/bae-jae-hyun/blob/master/1%EC%A3%BC%EC%B0%A8_%EC%88%98%EC%97%85%EC%95%88%EB%82%B4_%EB%B0%8F_%ED%8C%8C%EC%9D%B4%EC%8D%AC_%EA%B8%B0%EB%B3%B8_%EB%AC%B8%EB%B2%95(%EB%B0%B0%EC%9E%AC%ED%98%84%20%EC%88%98%EC%A0%95).ipynb\" target=\"_parent\"><img src=\"https://colab.research.google.com/assets/colab-badge.svg\" alt=\"Open In Colab\"/></a>"
      ]
    },
    {
      "cell_type": "markdown",
      "metadata": {
        "id": "YL9d3Cnbb-UD"
      },
      "source": [
        "# **기초 문법**\n",
        "* 자료형\n",
        "* 조건문 (if)\n",
        "* 반복문 (리스트, 딕셔너리, 범위 / for, while)\n",
        "* 함수\n",
        "* 예외 처리\n",
        "* 모듈\n",
        "* (클래스)"
      ]
    },
    {
      "cell_type": "markdown",
      "metadata": {
        "id": "usz1DGYurLPk"
      },
      "source": [
        "## 식별자 구분하기\n",
        "\n",
        "**식별자(identifier)**는 프로그래밍 언어에서 이름을 붙일 때 사용하는 단어입니다. 주로 변수 또는 함수 이름 등으로 사용됩니다.\n",
        "\n",
        "---\n",
        "* 예약어는 사용 X\n",
        "\n",
        "* 특수 문자는 언더바(_)만 사용 가능\n",
        "\n",
        "* 숫자로 시작할 수 없음\n",
        "\n",
        "* 공백 포함할 수 없음\n"
      ]
    },
    {
      "cell_type": "code",
      "metadata": {
        "id": "HsOIs7I2rMc8"
      },
      "source": [
        "# 이러한 변수들이 있다고 친다면\n",
        "itemlist    loginstatus     characterhp     rotateangle\n",
        "# Camel case -> 클래스 \n",
        "ItemList    LoginStatus     CharacterHp    RotateAngle\n",
        "# Snake case -> 함수, 변수\n",
        "item_list   login_status    character_hp    rotate_angle\n",
        "\n",
        "# 문제 1\n",
        "item_list  vs  item_list() ?\n",
        "# 문제 2\n",
        "class student() or class Student() ?"
      ],
      "execution_count": null,
      "outputs": []
    },
    {
      "cell_type": "markdown",
      "metadata": {
        "id": "PrvySs70xQdI"
      },
      "source": [
        "## 주석\n",
        "**주석(comment)**은 프로그램의 진행에 전혀 영항을 주지 않는 코드로, 프로그램을 설명하기 위해 사용됩니다."
      ]
    },
    {
      "cell_type": "code",
      "metadata": {
        "id": "wKAHpygCxP8-"
      },
      "source": [
        "# 한줄짜리 주석\n",
        "\n",
        "\"\"\"\n",
        "여러 줄의 주석 \n",
        "이지만 코랩에선 사용 불가..;\n",
        "\"\"\""
      ],
      "execution_count": null,
      "outputs": []
    },
    {
      "cell_type": "markdown",
      "metadata": {
        "id": "YwgK_X07ycA3"
      },
      "source": [
        "## 출력\n",
        "`print()` 을 사용합니다.\n",
        "\n"
      ]
    },
    {
      "cell_type": "code",
      "metadata": {
        "id": "LR2i5rmWydzk"
      },
      "source": [
        "print(\"Hello World!\")\n",
        "print('Hello World!') # 차이?\n",
        "\n",
        "b = 2\n",
        "a = 5\n",
        "print()"
      ],
      "execution_count": null,
      "outputs": []
    },
    {
      "cell_type": "markdown",
      "metadata": {
        "id": "d4zIYBaK4S8a"
      },
      "source": [
        "'안녕하세요'라고 말했습니다."
      ]
    },
    {
      "cell_type": "code",
      "metadata": {
        "id": "wd-70okF4RmX"
      },
      "source": [
        ""
      ],
      "execution_count": null,
      "outputs": []
    },
    {
      "cell_type": "markdown",
      "metadata": {
        "id": "GbcIcmt7zgI0"
      },
      "source": [
        "\n",
        "## 개행문자(escape sequence)\n",
        "는 \\으로 나타냅니다.\n",
        "\n",
        "많이 쓰이는 개행문자들\n",
        "* 탭 `\\t`\n",
        "* 엔터 `\\n`\n",
        "* 따옴표 `\\\"` 또는 `\\'`\n",
        "* 슬래시 `\\\\`\n"
      ]
    },
    {
      "cell_type": "code",
      "metadata": {
        "id": "sYzcyQd14ze-"
      },
      "source": [
        "# 부끄부끄"
      ],
      "execution_count": null,
      "outputs": []
    },
    {
      "cell_type": "code",
      "metadata": {
        "id": "dKXvXj3_zi2G"
      },
      "source": [
        "# 문제 1\n",
        "If a clod be washed away by the sea, Europe is the less."
      ],
      "execution_count": null,
      "outputs": []
    },
    {
      "cell_type": "code",
      "metadata": {
        "id": "uHt6p_ZN0CNc"
      },
      "source": [
        "# 풀이 1\n"
      ],
      "execution_count": null,
      "outputs": []
    },
    {
      "cell_type": "code",
      "metadata": {
        "id": "0yeZ5XZ80EDW"
      },
      "source": [
        "# 문제 2 (고난도)\n",
        "\\    /\\\n",
        " )  ( ')\n",
        "(  /  )\n",
        " \\(__)|"
      ],
      "execution_count": null,
      "outputs": []
    },
    {
      "cell_type": "code",
      "metadata": {
        "id": "xyEXJ3OB0dai"
      },
      "source": [
        "# 풀이 2\n"
      ],
      "execution_count": null,
      "outputs": []
    },
    {
      "cell_type": "markdown",
      "metadata": {
        "id": "w0RTAZNt53qg"
      },
      "source": [
        "## 문자열 연산자\n",
        "* 문자열 연결 연산자: +\n",
        "* 문자열 반복 연산자: *\n",
        "* 문자열 인덱싱: [] \n",
        "> 주의: `IndexError(index out of range)`\n",
        "\n",
        "* 문자열 길이: len()\n",
        "\n"
      ]
    },
    {
      "cell_type": "code",
      "metadata": {
        "colab": {
          "base_uri": "https://localhost:8080/"
        },
        "id": "pSdk2b8R6P9r",
        "outputId": "89a7882d-6516-4b95-92ea-de08319dde57"
      },
      "source": [
        "print(\"+로 잇기:\"+\"안녕\"+\"하세요\")\n",
        "print(\",로 잇기:\",\"안녕\",\"하세요\")\n",
        "\n",
        "# print(\"번외:\"+1)\n",
        "\n",
        "#print(\"3\"*3)\n",
        "\n",
        "#print(\"안녕하세요?\"[3])\n",
        "#print(\"안녕하세요?\"[-1])"
      ],
      "execution_count": null,
      "outputs": [
        {
          "output_type": "stream",
          "text": [
            "+로 잇기:안녕하세요\n",
            ",로 잇기: 안녕 하세요\n",
            "안녕\n"
          ],
          "name": "stdout"
        }
      ]
    },
    {
      "cell_type": "code",
      "metadata": {
        "id": "JCN4bTzX7Apf"
      },
      "source": [
        "# 문제\n",
        "# 반모\n",
        "print(\"안녕하세요?\")\n",
        "# 전체\n",
        "print(\"안녕하세요?\")"
      ],
      "execution_count": null,
      "outputs": []
    },
    {
      "cell_type": "markdown",
      "metadata": {
        "id": "40WRHcmvlfq9"
      },
      "source": [
        "## 자료형\n",
        "가장 기본적인 자료형은 **문자열(string), 숫자(number), 불(boolean)**이 있습니다.\n",
        "\n",
        "type() 함수로 확인\n",
        "\n",
        "\n",
        "\n",
        "\n",
        "Note >>> int: 정수 / float: 실수"
      ]
    },
    {
      "cell_type": "code",
      "metadata": {
        "id": "M_UzWbN7nYvD"
      },
      "source": [
        "print(type())"
      ],
      "execution_count": null,
      "outputs": []
    },
    {
      "cell_type": "markdown",
      "metadata": {
        "id": "eDGjF0VO9KBQ"
      },
      "source": [
        "## 숫자 연산자\n",
        "* 사칙 연산자 : +, -, *, /\n",
        "* 정수 나누기 연산자: //\n",
        "---\n",
        "* 나머지 연산자 : %\n",
        "* 제곱 연산자 : **\n",
        "---\n",
        "연산자의 우선순위\n",
        "print(\"안녕\"+\"하세요\" * 3)\n",
        "\n",
        "improvements?"
      ]
    },
    {
      "cell_type": "code",
      "metadata": {
        "id": "CYCbiKzy-TO9"
      },
      "source": [
        "print(\"3 / 2 = \", 3 / 2)\n",
        "print(\"3 // 2 = \", 3 // 2)"
      ],
      "execution_count": null,
      "outputs": []
    },
    {
      "cell_type": "markdown",
      "metadata": {
        "id": "n-MqG36u-9rf"
      },
      "source": [
        "## 변수와 입력\n",
        "변수는 선언만 해도 되고, 값을 집어넣어도 됩니다. 참조를 해도 됩니다.\n",
        "\n",
        "### 복합 대입 연산자 +=, -=\n",
        "number = 100\n",
        "\n",
        "\n",
        "number = number + 10\n",
        "\n",
        "\n",
        "print(number)\n"
      ]
    },
    {
      "cell_type": "code",
      "metadata": {
        "id": "c-ZOCE49AJ9c"
      },
      "source": [
        "number = 100\n",
        "number = number + 10\n",
        "print(number)"
      ],
      "execution_count": null,
      "outputs": []
    },
    {
      "cell_type": "markdown",
      "metadata": {
        "id": "LQlwbG_RAQCJ"
      },
      "source": [
        "## 사용자 입력\n",
        "`input()` 함수를 씁니다.\n",
        "\n",
        "## 입력받은 문자열을 숫자로 바꾸기"
      ]
    },
    {
      "cell_type": "code",
      "metadata": {
        "id": "u-5EgzWDA49o"
      },
      "source": [
        "age = input(\"나이를 입력해주세요: \")\n",
        "print(\"40년 후 당신의 나이는\",40+age,\"입니다.\")"
      ],
      "execution_count": null,
      "outputs": []
    },
    {
      "cell_type": "markdown",
      "metadata": {
        "id": "1al_YHVYBJBQ"
      },
      "source": [
        "## 숫자를 문자열로 바꾸는 법? 문자열의 format() 함수\n",
        "중괄호{}를 포함한 문자열 뒤에 마침효(.)를 찍고 `format()` 함수를 사용합니다."
      ]
    },
    {
      "cell_type": "code",
      "metadata": {
        "id": "jEolrngTBLol"
      },
      "source": [
        "# 숫자를 문자열로 변환\n",
        "string_a = \"{}\".format(10)\n",
        "print(type(string_a))"
      ],
      "execution_count": null,
      "outputs": []
    },
    {
      "cell_type": "code",
      "metadata": {
        "colab": {
          "base_uri": "https://localhost:8080/"
        },
        "id": "4oorMkKPCMm0",
        "outputId": "1f6b36d0-031e-45ab-c2e6-7efab99ae2da"
      },
      "source": [
        "output_a=\"{:15.3f}\".format(52.273)     \n",
        "output_b=\"{:15.2f}\".format(52.273)    \n",
        "output_c=\"{:15.1f}\".format(52.273)   \n",
        "\n",
        "print(output_a)\n",
        "print(output_b)\n",
        "print(output_c)\n"
      ],
      "execution_count": null,
      "outputs": [
        {
          "output_type": "stream",
          "text": [
            "         52.273\n",
            "          52.27\n",
            "           52.3\n"
          ],
          "name": "stdout"
        }
      ]
    },
    {
      "cell_type": "markdown",
      "metadata": {
        "id": "ugLkrxFaCb4F"
      },
      "source": [
        "## 대소문자 바꾸기: upper()와 lower()"
      ]
    },
    {
      "cell_type": "code",
      "metadata": {
        "id": "Tg2lw74QCigU"
      },
      "source": [
        "a = \"heLlO pyTHon ProGraMmiNg!\"\n",
        "print(a.upper())\n",
        "print(a.lower())"
      ],
      "execution_count": null,
      "outputs": []
    },
    {
      "cell_type": "markdown",
      "metadata": {
        "id": "J-KJ8FQcC8PX"
      },
      "source": [
        "## 문자열의 구성 파악하기: is뭐뭐()\n",
        "* isalnum() \n",
        "* isalpha()\n",
        "* isidentifier() \n",
        "* isdecimal()\n",
        "* isdigit()\n",
        "* isspace()\n",
        "* islower()\n",
        "* isupper()\n",
        "\n",
        "## 문자열 위치 찾기: find()와 rfind()\n",
        "\n",
        "```\n",
        ">>> a = \"안녕안녕안녕하세요\".find(\"안녕\")\n",
        ">>> print(a)\n",
        ":>> 0\n",
        "```\n",
        "\n",
        "## 문자열과 in 연산자\n",
        "```\n",
        ">>> print(\"안녕\" in \"안녕하세요\")\n",
        ">>> True\n",
        "```\n",
        "\n",
        "## 문자열 자르기: split()\n",
        "```\n",
        ">>> a = \" 10 20 30 40 50\".split(\" \")\n",
        ">>> print(a)\n",
        "['10','20','30','40','50']\n",
        "```"
      ]
    },
    {
      "cell_type": "markdown",
      "metadata": {
        "id": "9umfJGc_Qoce"
      },
      "source": [
        "## 조건문 if\n",
        "* if...else\n",
        "\n",
        "* if...elif...else\n",
        "\n",
        "## 불 만들기: 비교 연산자\n",
        "* ==\n",
        "\n",
        "* !=\n",
        "\n",
        "* <=, >=\n",
        "\n",
        "# 불 만들기: 논리 연산자\n",
        "* not\n",
        "\n",
        "* and\n",
        "\n",
        "* or\n",
        "\n",
        "* +) is None\n",
        "\n",
        "\n"
      ]
    },
    {
      "cell_type": "markdown",
      "metadata": {
        "id": "_YRwwi35nG8t"
      },
      "source": [
        "\n",
        "\n",
        "## 딕셔너리 {}\n",
        "'키:값' 형태를 쉼표로 연결해서 만듭니다.\n"
      ]
    },
    {
      "cell_type": "code",
      "metadata": {
        "id": "9ftQCLZSGwJF"
      },
      "source": [
        "# 딕셔너리를 선언합니다.\n",
        "dictionary = {\n",
        "    \"name\": \"7D 건조 망고\",\n",
        "    \"type\": \"당절임\",\n",
        "    \"ingredient\": [\"망고\", \"설탕\", \"메타중아황산나트륨\", \"치자황색소\"],\n",
        "    \"origin\": \"필리핀\"\n",
        "}\n",
        "\n",
        "# 출력합니다.\n",
        "print(\"name:\", dictionary[\"name\"])\n",
        "print(\"type:\", dictionary[\"type\"])\n",
        "print(\"ingredient:\", dictionary[\"ingredient\"])\n",
        "print(\"origin:\", dictionary[\"origin\"])\n",
        "print()\n",
        "\n",
        "# 값을 변경합니다.\n",
        "dictionary[\"name\"] = \"8D 건조 망고\"\n",
        "print(\"name:\", dictionary[\"name\"])\n"
      ],
      "execution_count": null,
      "outputs": []
    },
    {
      "cell_type": "markdown",
      "metadata": {
        "id": "UATuyG7MHApA"
      },
      "source": [
        "## 딕셔너리에 값 추가하기/제거하기"
      ]
    },
    {
      "cell_type": "code",
      "metadata": {
        "id": "fIDRkaFhG5G2"
      },
      "source": [
        "dictionary[\"price\"] = 5000\n",
        "print(dictionary)\n",
        "\n",
        "# del dictionary[\"ingredient\"]\n",
        "# print(dictionary)"
      ],
      "execution_count": null,
      "outputs": []
    },
    {
      "cell_type": "code",
      "metadata": {
        "id": "P4p30LB7nR49"
      },
      "source": [
        "# 실습\n",
        "print()"
      ],
      "execution_count": null,
      "outputs": []
    },
    {
      "cell_type": "markdown",
      "metadata": {
        "id": "ObCXsTf1nKzU"
      },
      "source": [
        "## 함수\n",
        "함수를 사용하는 것을 **\"함수를 호출한다\"**고 표현삽니다. 함수를 호출할 땐 괄호 내부에 여러가지 자료를 넣게 되는데, 이러한 자료를 **\"매개변수\"**라고 부릅니다. 마지막으로 함수를 호출해서 최종적으로 나우는 결과를 **\"리턴값\"**이라고 부릅니다.\n",
        "\n",
        "\n",
        "---\n",
        "\n",
        "\n",
        "def 함수 이름(매개 변수):\n",
        "    \n",
        "\n",
        "> 문장\n",
        "\n",
        "\n",
        "\n"
      ]
    },
    {
      "cell_type": "code",
      "metadata": {
        "id": "Z8NThiCnnMjM"
      },
      "source": [
        "def print_n_times(value, n):\n",
        "    for i in range(n):\n",
        "        print(value)\n",
        "\n",
        "print_n_times(\"안녕\",10,20)"
      ],
      "execution_count": null,
      "outputs": []
    },
    {
      "cell_type": "markdown",
      "metadata": {
        "id": "gTcnNSfGn1SU"
      },
      "source": [
        "## 가변 매개변수\n",
        "매개변수를 원하는 만큼 받을 수 있는 함수를 **가변 매개함수**라고 부릅니다. \n",
        "가변 매개변수 뒤에는 일반 매개변수가 올 수 없으며, 가변 매개변수는 하나만 사용할 수 있습니다."
      ]
    },
    {
      "cell_type": "code",
      "metadata": {
        "id": "jWBsgsRAKWnu"
      },
      "source": [
        "def print_n_times(n, *values):\n",
        "    # n번 반복합니다.\n",
        "    for i in range(n):\n",
        "        # values는 리스트처럼 활용합니다.\n",
        "        for value in values:\n",
        "            print(value)\n",
        "        # 단순한 줄바꿈\n",
        "        print()\n",
        "\n",
        "# 함수를 호출합니다.\n",
        "print_n_times(3, \"안녕하세요\", \"즐거운\", \"파이썬 프로그래밍\")\n"
      ],
      "execution_count": null,
      "outputs": []
    },
    {
      "cell_type": "markdown",
      "metadata": {
        "id": "XDqklkSEKjBN"
      },
      "source": [
        "## 기본 매개변수\n",
        "**'매개변수=값'** 형태로 되어있으며, 매개변수를 입력하지 않았을 경우 매개변수에 뜰어가는 기본값입니다. 기본 매개변수 뒤에는 일반 매개변수가 올 수 없습니다."
      ]
    },
    {
      "cell_type": "code",
      "metadata": {
        "id": "iJQtVnz3Kl5F"
      },
      "source": [
        "def print_n_times(value, n=2):\n",
        "    # n번 반복합니다.\n",
        "    for i in range(n):\n",
        "        print(value)\n",
        "\n",
        "# 함수를 호출합니다.\n",
        "print_n_times(\"안녕하세요\")\n",
        "\n"
      ],
      "execution_count": null,
      "outputs": []
    },
    {
      "cell_type": "markdown",
      "metadata": {
        "id": "J6GcrKEdnM32"
      },
      "source": [
        "## 리턴\n",
        "함수의 결과를 **리턴값**이라고 부릅니다."
      ]
    },
    {
      "cell_type": "code",
      "metadata": {
        "id": "eu1Yr1MnnNtp"
      },
      "source": [
        "# 함수를 정의합니다.\n",
        "def return_test():\n",
        "    print(\"A 위치입니다.\")\n",
        "    return # 리턴합니다.\n",
        "    print(\"B 위치입니다.\")\n",
        "\n",
        "# 함수를 호출합니다.\n",
        "return_test()\n"
      ],
      "execution_count": null,
      "outputs": []
    },
    {
      "cell_type": "markdown",
      "metadata": {
        "id": "9kPXrkr7nOIe"
      },
      "source": [
        "아무것도 리턴하지 않았을 때는 어떻게 출력될까요?"
      ]
    },
    {
      "cell_type": "markdown",
      "metadata": {
        "id": "56WJVtTtL4xv"
      },
      "source": [
        "## 함수 고급: 튜플, 람다, map(), filter(), format() -> 나올때.\n",
        "## 파일 입출려구"
      ]
    },
    {
      "cell_type": "markdown",
      "metadata": {
        "id": "U88tUrBRS2Mn"
      },
      "source": [
        "## try except 구문\n",
        "예외가 발생할 상황을 모두 예측하고 조건문을 한번에 만들어 처리하는 것은 매우 힘든 일입니다. 그래서 `try except` 구문을 사용합니다.\n",
        "---\n",
        "\n",
        "```\n",
        "try:\n",
        "> 예외가 발생할 가능성이 있는 코드\n",
        "except:\n",
        "> 예외가 발생했을 때 실행할 코드\n",
        "else:\n",
        "> 예외가 발생하지 않았을 때 실행할 코드\n",
        "finally:\n",
        "> 무조건 실행할 코드\n",
        "```\n",
        "\n",
        "\n",
        "---\n"
      ]
    },
    {
      "cell_type": "markdown",
      "metadata": {
        "id": "mLoUZrE0nmMo"
      },
      "source": [
        "## 모듈\n",
        "파이썬은 **모듈**이라는 기능을 활용해 코드를 분리하고 공유합니다. 모듈은 여러 변수와 함수를 가지고 있는 집합체로, 크게 **표준 모듈**과 **외부 모듈**로 나뉩니다. \n",
        "\n",
        "(기본 내장  = '표준 모듈' & 다른 사람이 만들어 공개한 모듈 = '외부 모듈')\n",
        "\n",
        "\n",
        "---\n",
        "\n",
        "\n",
        "\n",
        "`import` 모듈명"
      ]
    },
    {
      "cell_type": "code",
      "metadata": {
        "id": "rB50xLv1nnu8"
      },
      "source": [
        "import BeautifulSoup\n",
        "import requests\n",
        "import scrapy"
      ],
      "execution_count": null,
      "outputs": []
    },
    {
      "cell_type": "markdown",
      "metadata": {
        "id": "pBJg2XIIn2_6"
      },
      "source": [
        "흔히 들어본 텐서플로우, 케라스, 장고, 플라스크, 넘파이 등은 모두 다른 사람들이 만들어 제공해주는 외부 모듈입니다. \n",
        "\n",
        "---\n",
        "`pip install` 모듈명\n",
        "\n"
      ]
    },
    {
      "cell_type": "markdown",
      "metadata": {
        "id": "PMSVTcxqbsUq"
      },
      "source": [
        "# **랜덤으로 팀 정하기**"
      ]
    },
    {
      "cell_type": "code",
      "metadata": {
        "id": "y-OfqIZ9UkAm"
      },
      "source": [
        "import random\n",
        "\n",
        "members = [\"강수현\",\"김지우\",\"남윤종\",\"배재현\",\"송민경\",\"안리아\",\"이승준\",\"장지환\"]\n",
        "pairs = {}\n",
        "\n",
        "for p in range(len(members) // 2):\n",
        "    pairs[p+1] = ( members.pop(random.randrange(len(members))),\n",
        "        members.pop(random.randrange(len(members))) )\n",
        "\n",
        "print(pairs)"
      ],
      "execution_count": null,
      "outputs": []
    }
  ]
}